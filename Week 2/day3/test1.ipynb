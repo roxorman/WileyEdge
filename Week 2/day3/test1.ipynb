{
 "cells": [
  {
   "cell_type": "code",
   "execution_count": null,
   "metadata": {},
   "outputs": [],
   "source": [
    "import pandas as pd\n",
    "\n",
    "s1 = pd.Series([1, 3, 5, 8], index = ['a','b','c','d'])\n",
    "\n",
    "s2 = pd.Series([1.2,23,132,213],index=['a','b','c','d'])\n",
    "\n",
    "s1+s2"
   ]
  },
  {
   "cell_type": "code",
   "execution_count": null,
   "metadata": {},
   "outputs": [],
   "source": [
    "s1.add(s2,fill_value=0)"
   ]
  },
  {
   "cell_type": "code",
   "execution_count": null,
   "metadata": {},
   "outputs": [],
   "source": [
    "df1 = pd.DataFrame({'customer' : ['A','B','C'], \n",
    "                    'balance'  : [5,6,7,], \n",
    "                    'age' : [51,52,55]})\n",
    "\n",
    "df1"
   ]
  },
  {
   "cell_type": "code",
   "execution_count": null,
   "metadata": {},
   "outputs": [],
   "source": [
    "print(type(df1['customer']))\n",
    "\n",
    "print(df1['customer'])\n",
    "\n",
    "df1.dtypes\n",
    "\n",
    "print(df1['balance'].mean())"
   ]
  },
  {
   "cell_type": "code",
   "execution_count": null,
   "metadata": {},
   "outputs": [],
   "source": [
    "df = pd.read_csv(r\"C:\\Users\\marno\\Wiley Edge\\Code\\college_scorecard_2017-18.csv\", dtype={'OPEID':str})"
   ]
  },
  {
   "cell_type": "code",
   "execution_count": null,
   "metadata": {},
   "outputs": [],
   "source": [
    "df.info()\n",
    "df.shape"
   ]
  },
  {
   "cell_type": "code",
   "execution_count": null,
   "metadata": {},
   "outputs": [],
   "source": [
    "# Rename column\n",
    "df = df.rename(columns={'STABBR':'STATE', 'INSTNM':'INSTITUTION'})\n",
    "df.head()"
   ]
  },
  {
   "cell_type": "code",
   "execution_count": null,
   "metadata": {},
   "outputs": [],
   "source": [
    "# List all the columns\n",
    "df.columns"
   ]
  },
  {
   "cell_type": "code",
   "execution_count": null,
   "metadata": {},
   "outputs": [],
   "source": [
    "# seperate the columns by comma after reading xlsx file\n",
    "\n",
    "df_excel = pd.read_excel(\"small_data/college_scorecard_2017-18.xlsx\", dtype={'OPEID':str}, sheet_name='Sheet1')\n",
    "\n",
    "df_excel.head()"
   ]
  },
  {
   "cell_type": "code",
   "execution_count": null,
   "metadata": {},
   "outputs": [],
   "source": [
    "url = \"https://en.wikipedia.org/w/index.php?title=World_population&oldid=948301297\"\n",
    "dfs = pd.read_html(url)\n",
    "dfs[12].head()"
   ]
  },
  {
   "cell_type": "code",
   "execution_count": null,
   "metadata": {},
   "outputs": [],
   "source": [
    "print(df['CITY'].unique())\n",
    "print(f\"Number of unique cities: {len(df['CITY'].unique())}\")\n",
    "\n"
   ]
  },
  {
   "cell_type": "code",
   "execution_count": null,
   "metadata": {},
   "outputs": [],
   "source": [
    "df.loc[3,'INSTITUTION']\n"
   ]
  },
  {
   "cell_type": "code",
   "execution_count": null,
   "metadata": {},
   "outputs": [],
   "source": [
    "df.loc[3]"
   ]
  },
  {
   "cell_type": "code",
   "execution_count": null,
   "metadata": {},
   "outputs": [],
   "source": [
    "df.loc[:3, 'INSTITUTION':'ZIP']"
   ]
  },
  {
   "cell_type": "code",
   "execution_count": null,
   "metadata": {},
   "outputs": [],
   "source": [
    "new_index = pd.RangeIndex(1, len(df)+1)\n",
    "df.set_index(new_index).head()\n"
   ]
  },
  {
   "cell_type": "code",
   "execution_count": null,
   "metadata": {},
   "outputs": [],
   "source": [
    "df.drop_duplicates(subset=['STATE','CITY'],keep='first').head()"
   ]
  },
  {
   "cell_type": "code",
   "execution_count": null,
   "metadata": {},
   "outputs": [],
   "source": [
    "df.drop('CITY', axis=1).head()"
   ]
  },
  {
   "cell_type": "code",
   "execution_count": null,
   "metadata": {},
   "outputs": [],
   "source": [
    "import numpy as np\n",
    "import pandas as pd\n",
    "import matplotlib.pyplot as plt\n",
    "import seaborn as sns\n",
    "\n",
    "df_info = df.info()\n",
    "\n",
    "numeric_stats = df.describe()\n",
    "\n",
    "null_counts = df.isnull().sum()\n",
    "\n",
    "plt.figure(figsize=(10,6))\n",
    "sns.heatmap(df.isnull(), cbar=False, cmap='viridis')    # cbar=False removes the color bar on the right, cmap='viridis' is the color scheme\n",
    "plt.title('Missing data in the dataset')\n",
    "plt.show()\n"
   ]
  },
  {
   "cell_type": "code",
   "execution_count": null,
   "metadata": {},
   "outputs": [],
   "source": [
    "df1 = pd.DataFrame({'A':['A0','B1']\n",
    "                     ,'B':['A1','B1']\n",
    "                     })\n",
    "df2 = pd.DataFrame({'A':['A2','A3']\n",
    "                    , 'B':['A2','A3']\n",
    "                    })\n",
    "\n",
    "df_result = pd.concat([df1,df2],axis=0,ignore_index=True)\n",
    "df_result"
   ]
  },
  {
   "cell_type": "code",
   "execution_count": null,
   "metadata": {},
   "outputs": [],
   "source": [
    "x = [1,2,3,4,5]\n",
    "y = [2,4,6,8,10]\n",
    "plt.xlabel('x-axis')\n",
    "plt.ylabel('y-axis')\n",
    "plt.title('My first plot')\n",
    "plt.plot(x,y)\n",
    "plt.show()\n"
   ]
  },
  {
   "cell_type": "code",
   "execution_count": null,
   "metadata": {},
   "outputs": [],
   "source": [
    "data = {\n",
    "    'A': [1,2,3,4],\n",
    "    'B': [5,6,7,8],\n",
    "    'C': [9,10,11,12]\n",
    "}\n",
    "df = pd.DataFrame(data)\n",
    "\n",
    "sns.heatmap(df, annot=True, cmap='coolwarm')\n",
    "plt.title('My first heatmap')\n",
    "plt.show()\n"
   ]
  },
  {
   "cell_type": "code",
   "execution_count": null,
   "metadata": {},
   "outputs": [],
   "source": [
    "data = {'Category': ['A','B','C', 'D'],\n",
    "        'values': [32,43,50,60]}\n",
    "\n",
    "df = pd.DataFrame(data)\n",
    "\n",
    "plt.bar(df['Category'], df['values'])\n",
    "plt.xlabel('Category')\n",
    "plt.ylabel('Values')\n",
    "plt.title('My first bar graph')\n",
    "plt.show()\n"
   ]
  },
  {
   "cell_type": "code",
   "execution_count": null,
   "metadata": {},
   "outputs": [],
   "source": [
    "# Practice on dataset\n",
    "\n",
    "import pandas as pd\n",
    "import numpy as np\n",
    "import matplotlib.pyplot as plt\n",
    "import seaborn as sns\n",
    "\n",
    "\n",
    "df = pd.read_csv(r\"C:\\Users\\marno\\Wiley Edge\\Code\\college_scorecard_2017-18.csv\", dtype={'OPEID':str})"
   ]
  },
  {
   "cell_type": "code",
   "execution_count": null,
   "metadata": {},
   "outputs": [],
   "source": [
    "df = df.rename(columns={'STABBR':'STATE', 'INSTNM':'INSTITUTION', 'ADM_RATE':'ADMISSION_RATE', 'COSTT4_A': 'ANNUAL_TUITION'})\n",
    "df.head()\n",
    "df.isnull().sum()\n",
    "\n",
    "# Remove rows with missing values\n",
    "#df = df.dropna()\n",
    "df.isnull().sum()\n",
    "\n",
    "# Show number of unique cities \n",
    "print(f\"Number of unique cities: {len(df['CITY'].unique())}\")\n",
    "\n",
    "# remove non-us states from the dataset\n",
    "states = ['AL', 'AK', 'AZ', 'AR', 'CA', 'CO', 'CT', 'DE', 'FL', 'GA', 'HI', 'ID', 'IL', 'IN', 'IA', 'KS', 'KY', 'LA',\n",
    "         'ME', 'MD', 'MA', 'MI', 'MN', 'MS', 'MO', 'MT', 'NE', 'NV', 'NH', 'NJ', 'NM', 'NY', 'NC', 'ND', 'OH', 'OK', 'OR',\n",
    "         'PA', 'RI', 'SC', 'SD', 'TN', 'TX', 'UT', 'VT', 'VA', 'WA', 'WV', 'WI', 'WY']\n",
    "df = df[df['STATE'].isin(states)]\n",
    "df.head()\n",
    "\n",
    "#  bar chart comparing number of institutions per state,\n",
    "\n",
    "plt.figure(figsize=(12,10))\n",
    "sns.barplot(x=df['STATE'].value_counts().sort_values(ascending=False), y=df['STATE'].value_counts().sort_values(ascending=False).index, palette='viridis')\n",
    "plt.title('Number of institutions per state')\n",
    "plt.xlabel('Number of institutions')\n",
    "plt.ylabel('State')\n",
    "for p in plt.gca().patches:\n",
    "    plt.gca().text(p.get_width()+0.5, p.get_y()+0.55, str(int(p.get_width())), fontsize=8, color='black')\n",
    "    \n",
    "plt.show()\n"
   ]
  },
  {
   "cell_type": "code",
   "execution_count": null,
   "metadata": {},
   "outputs": [],
   "source": [
    "# remove missing values from the dataset\n",
    "df.dropna(inplace=True)\n",
    "\n",
    "# compare average annual tuition by state \n",
    "plt.figure(figsize=(12,10))\n",
    "sns.barplot(x=df.groupby('STATE')['ANNUAL_TUITION'].mean().sort_values(ascending=False), \\\n",
    "    y=df.groupby('STATE')['ANNUAL_TUITION'].mean().sort_values(ascending=False).index, palette='viridis')\n",
    "plt.title('Average annual tuition by state')\n",
    "plt.xlabel('Average annual tuition')\n",
    "plt.ylabel('State')\n",
    "for p in plt.gca().patches:\n",
    "    plt.gca().text(p.get_width()+0.6, p.get_y()+0.55, '$'+str(int(p.get_width())), fontsize=8, color='black')\n",
    "    \n",
    "plt.show()\n"
   ]
  },
  {
   "cell_type": "code",
   "execution_count": null,
   "metadata": {},
   "outputs": [],
   "source": [
    "# Compare the average admission rate by state\n",
    "plt.figure(figsize=(10,10))\n",
    "sns.barplot(x=df.groupby('STATE')['ADMISSION_RATE'].mean().sort_values(ascending=False), \\\n",
    "    y=df.groupby('STATE')['ADMISSION_RATE'].mean().sort_values(ascending=False).index, palette='viridis')\n",
    "for p in plt.gca().patches:\n",
    "    plt.gca().text(p.get_width()+0.01, p.get_y()+0.9, str(int(p.get_width() * 100))+'%', fontsize=8, color='black')\n",
    "plt.title('Average admission rate by state')\n",
    "plt.xlabel('Average admission rate')\n",
    "plt.ylabel('State')\n",
    "plt.show()\n"
   ]
  },
  {
   "cell_type": "code",
   "execution_count": null,
   "metadata": {},
   "outputs": [],
   "source": [
    "# Inspect possible correlation between admission rate and annual tuition\n",
    "sns.jointplot(x='ADMISSION_RATE', y='ANNUAL_TUITION', data=df, kind='reg', color='g')\n",
    "plt.show()\n",
    "\n",
    "\n",
    "\n"
   ]
  },
  {
   "cell_type": "code",
   "execution_count": null,
   "metadata": {},
   "outputs": [],
   "source": [
    "data = {'X':[1,2,3,4,5]\n",
    "        ,'Y':[2,4,6,8,10]}\n",
    "df = pd.DataFrame(data)\n",
    "\n",
    "plt.scatter(df['X'], df['Y'])\n",
    "plt.xlabel('X-axis')\n",
    "plt.ylabel('Y-axis')\n",
    "plt.title('My first scatter plot')\n",
    "plt.show()"
   ]
  },
  {
   "cell_type": "code",
   "execution_count": null,
   "metadata": {},
   "outputs": [],
   "source": [
    "data = {'Category':['A','B','C','D'],\n",
    "        'values':[32,43,50,60]}\n",
    "\n",
    "df = pd.DataFrame(data)\n",
    "\n",
    "plt.pie(df['values'], labels=df['Category'], autopct='%1.1f%%')\n",
    "plt.title('My first pie chart')\n",
    "plt.show()\n"
   ]
  },
  {
   "cell_type": "code",
   "execution_count": null,
   "metadata": {},
   "outputs": [],
   "source": [
    "def make_matrix(n_rows,n_cols):\n",
    "    return [list(range(n_cols*i, n_cols*(i+1))) for i in range(n_rows)]\n",
    "test_data =make_matrix(40,5)\n",
    "test_data"
   ]
  },
  {
   "cell_type": "code",
   "execution_count": null,
   "metadata": {},
   "outputs": [],
   "source": [
    "test_data[3][2]"
   ]
  },
  {
   "cell_type": "code",
   "execution_count": null,
   "metadata": {},
   "outputs": [],
   "source": [
    "%%timeit\n",
    "sum([sum(r) for r in test_data])"
   ]
  },
  {
   "cell_type": "code",
   "execution_count": null,
   "metadata": {},
   "outputs": [],
   "source": [
    "import numpy as np\n",
    "test_np_array = np.array(test_data)\n"
   ]
  },
  {
   "cell_type": "code",
   "execution_count": null,
   "metadata": {},
   "outputs": [],
   "source": [
    "%%timeit\n",
    "test_np_array.sum()"
   ]
  }
 ],
 "metadata": {
  "kernelspec": {
   "display_name": ".venv",
   "language": "python",
   "name": "python3"
  },
  "language_info": {
   "codemirror_mode": {
    "name": "ipython",
    "version": 3
   },
   "file_extension": ".py",
   "mimetype": "text/x-python",
   "name": "python",
   "nbconvert_exporter": "python",
   "pygments_lexer": "ipython3",
   "version": "3.12.0"
  }
 },
 "nbformat": 4,
 "nbformat_minor": 2
}
