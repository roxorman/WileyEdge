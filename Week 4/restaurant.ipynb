{
 "cells": [
  {
   "cell_type": "code",
   "execution_count": 63,
   "metadata": {},
   "outputs": [],
   "source": [
    "import json"
   ]
  },
  {
   "cell_type": "code",
   "execution_count": 79,
   "metadata": {},
   "outputs": [],
   "source": [
    "def read_restaurant_data(file_path):\n",
    "    try:\n",
    "        with open(file_path, 'r', encoding='utf-8') as json_file:\n",
    "            data = json.load(json_file)\n",
    "            return data\n",
    "    except FileNotFoundError:\n",
    "        print(\"File not found. Please provide the correct file path.\")\n",
    "        return []\n",
    "    except json.JSONDecodeError:\n",
    "        print(\"Error decoding JSON data. Ensure that the file is in valid JSON format.\")\n",
    "        return []\n",
    "\n",
    "# Example usage:\n",
    "file_path = r'C:\\Users\\marno\\Wiley Edge\\Code\\Week 4\\restaurant.json'  # Provide the correct file path\n",
    "restaurant_data = read_restaurant_data(file_path)\n"
   ]
  },
  {
   "cell_type": "code",
   "execution_count": 83,
   "metadata": {},
   "outputs": [
    {
     "name": "stdout",
     "output_type": "stream",
     "text": [
      "{\"address\": {\"building\": \"87-69\", \"coord\": [-73.8309503, 40.7001121], \"street\": \"Lefferts Boulevard\", \"zipcode\": \"11418\"}, \"borough\": \"Queens\", \"cuisine\": \"American\", \"grades\": [{\"date\": \"2014/02/25\", \"grade\": \"A\", \"score\": 7}, {\"date\": \"2013/08/14\", \"grade\": \"A\", \"score\": 11}, {\"date\": \"2012/08/07\", \"grade\": \"A\", \"score\": 7}, {\"date\": \"2012/03/26\", \"grade\": \"A\", \"score\": 10}, {\"date\": \"2011/11/04\", \"grade\": \"A\", \"score\": 0}, {\"date\": \"2011/06/29\", \"grade\": \"A\", \"score\": 4}], \"name\": \"Snack Time Grill\", \"restaurant_id\": \"40363590\"}\n",
      "{\"address\": {\"building\": \"1418\", \"coord\": [-73.95685019999999, 40.7753401], \"street\": \"Third Avenue\", \"zipcode\": \"10028\"}, \"borough\": \"Manhattan\", \"cuisine\": \"Continental\", \"grades\": [{\"date\": \"2014/06/02\", \"grade\": \"A\", \"score\": 9}, {\"date\": \"2013/12/27\", \"grade\": \"A\", \"score\": 8}, {\"date\": \"2013/03/18\", \"grade\": \"B\", \"score\": 26}, {\"date\": \"2012/02/01\", \"grade\": \"A\", \"score\": 7}, {\"date\": \"2011/07/06\", \"grade\": \"B\", \"score\": 25}], \"name\": \"Lorenzo & Maria'S\", \"restaurant_id\": \"40363630\"}\n",
      "{\"address\": {\"building\": \"464\", \"coord\": [-73.9791458, 40.744328], \"street\": \"3 Avenue\", \"zipcode\": \"10016\"}, \"borough\": \"Manhattan\", \"cuisine\": \"Pizza\", \"grades\": [{\"date\": \"2014/08/05\", \"grade\": \"A\", \"score\": 3}, {\"date\": \"2014/03/06\", \"grade\": \"A\", \"score\": 11}, {\"date\": \"2013/07/09\", \"grade\": \"A\", \"score\": 12}, {\"date\": \"2013/01/30\", \"grade\": \"A\", \"score\": 4}, {\"date\": \"2012/01/05\", \"grade\": \"A\", \"score\": 2}, {\"date\": \"2011/09/26\", \"grade\": \"A\", \"score\": 0}], \"name\": \"Domino'S Pizza\", \"restaurant_id\": \"40363644\"}\n",
      "{\"address\": {\"building\": \"437\", \"coord\": [-73.975393, 40.757365], \"street\": \"Madison Avenue\", \"zipcode\": \"10022\"}, \"borough\": \"Manhattan\", \"cuisine\": \"American\", \"grades\": [{\"date\": \"2014/06/03\", \"grade\": \"A\", \"score\": 9}, {\"date\": \"2013/06/07\", \"grade\": \"A\", \"score\": 5}, {\"date\": \"2012/06/29\", \"grade\": \"A\", \"score\": 12}, {\"date\": \"2012/02/06\", \"grade\": \"A\", \"score\": 11}, {\"date\": \"2011/06/23\", \"grade\": \"A\", \"score\": 13}], \"name\": \"Berkely\", \"restaurant_id\": \"40363685\"}\n",
      "{\"address\": {\"building\": \"1031\", \"coord\": [-73.9075537, 40.6438684], \"street\": \"East   92 Street\", \"zipcode\": \"11236\"}, \"borough\": \"Brooklyn\", \"cuisine\": \"American\", \"grades\": [{\"date\": \"2014/02/05\", \"grade\": \"A\", \"score\": 0}, {\"date\": \"2013/01/29\", \"grade\": \"A\", \"score\": 3}, {\"date\": \"2011/12/08\", \"grade\": \"A\", \"score\": 10}], \"name\": \"Sonny'S Heros\", \"restaurant_id\": \"40363744\"}\n",
      "{\"address\": {\"building\": \"1111\", \"coord\": [-74.0796436, 40.59878339999999], \"street\": \"Hylan Boulevard\", \"zipcode\": \"10305\"}, \"borough\": \"Staten Island\", \"cuisine\": \"Ice Cream, Gelato, Yogurt, Ices\", \"grades\": [{\"date\": \"2014/04/24\", \"grade\": \"A\", \"score\": 12}, {\"date\": \"2013/02/26\", \"grade\": \"A\", \"score\": 5}, {\"date\": \"2012/02/02\", \"grade\": \"A\", \"score\": 2}], \"name\": \"Carvel Ice Cream\", \"restaurant_id\": \"40363834\"}\n",
      "{\"address\": {\"building\": \"976\", \"coord\": [-73.92701509999999, 40.6620192], \"street\": \"Rutland Road\", \"zipcode\": \"11212\"}, \"borough\": \"Brooklyn\", \"cuisine\": \"Chinese\", \"grades\": [{\"date\": \"2014/04/23\", \"grade\": \"A\", \"score\": 13}, {\"date\": \"2013/03/26\", \"grade\": \"A\", \"score\": 10}, {\"date\": \"2012/03/13\", \"grade\": \"A\", \"score\": 4}, {\"date\": \"2011/11/16\", \"grade\": \"A\", \"score\": 13}], \"name\": \"Golden Pavillion\", \"restaurant_id\": \"40363920\"}\n",
      "{\"address\": {\"building\": \"148\", \"coord\": [-73.9806854, 40.7778589], \"street\": \"West   72 Street\", \"zipcode\": \"10023\"}, \"borough\": \"Manhattan\", \"cuisine\": \"Pizza\", \"grades\": [{\"date\": \"2014/12/08\", \"grade\": \"A\", \"score\": 13}, {\"date\": \"2014/05/05\", \"grade\": \"B\", \"score\": 18}, {\"date\": \"2013/04/05\", \"grade\": \"A\", \"score\": 13}, {\"date\": \"2012/03/30\", \"grade\": \"A\", \"score\": 9}], \"name\": \"Domino'S Pizza\", \"restaurant_id\": \"40363945\"}\n",
      "{\"address\": {\"building\": \"364\", \"coord\": [-73.96084119999999, 40.8014307], \"street\": \"West  110 Street\", \"zipcode\": \"10025\"}, \"borough\": \"Manhattan\", \"cuisine\": \"American\", \"grades\": [{\"date\": \"2014/09/04\", \"grade\": \"B\", \"score\": 20}, {\"date\": \"2014/02/26\", \"grade\": \"B\", \"score\": 23}, {\"date\": \"2013/03/25\", \"grade\": \"A\", \"score\": 12}, {\"date\": \"2012/02/21\", \"grade\": \"A\", \"score\": 8}], \"name\": \"Spoon Bread Catering\", \"restaurant_id\": \"40364179\"}\n",
      "{\"address\": {\"building\": \"1423\", \"coord\": [-73.9615132, 40.6253268], \"street\": \"Avenue J\", \"zipcode\": \"11230\"}, \"borough\": \"Brooklyn\", \"cuisine\": \"Jewish/Kosher\", \"grades\": [{\"date\": \"2014/12/19\", \"grade\": \"A\", \"score\": 10}, {\"date\": \"2013/12/05\", \"grade\": \"A\", \"score\": 11}, {\"date\": \"2012/12/06\", \"grade\": \"A\", \"score\": 9}], \"name\": \"Kosher Bagel Hole\", \"restaurant_id\": \"40364220\"}\n",
      "{\"address\": {\"building\": \"222-05\", \"coord\": [-73.75767259999999, 40.7538214], \"street\": \"56 Avenue\", \"zipcode\": \"11364\"}, \"borough\": \"Queens\", \"cuisine\": \"American\", \"grades\": [{\"date\": \"2014/08/05\", \"grade\": \"A\", \"score\": 10}, {\"date\": \"2014/02/05\", \"grade\": \"A\", \"score\": 9}, {\"date\": \"2013/07/16\", \"grade\": \"A\", \"score\": 11}, {\"date\": \"2012/12/05\", \"grade\": \"A\", \"score\": 5}, {\"date\": \"2012/06/19\", \"grade\": \"A\", \"score\": 13}], \"name\": \"Science Cafe (Queensborough  Community College)\", \"restaurant_id\": \"40386793\"}\n",
      "{\"address\": {\"building\": \"3101\", \"coord\": [-73.8812773, 40.679218], \"street\": \"Atlantic Avenue\", \"zipcode\": \"11208\"}, \"borough\": \"Brooklyn\", \"cuisine\": \"Hamburgers\", \"grades\": [{\"date\": \"2014/11/14\", \"grade\": \"A\", \"score\": 2}, {\"date\": \"2013/10/21\", \"grade\": \"A\", \"score\": 3}, {\"date\": \"2012/11/14\", \"grade\": \"A\", \"score\": 0}], \"name\": \"White Castle\", \"restaurant_id\": \"40386837\"}\n",
      "{\"address\": {\"building\": \"783\", \"coord\": [-73.988231, 40.76503200000001], \"street\": \"9 Avenue\", \"zipcode\": \"10019\"}, \"borough\": \"Manhattan\", \"cuisine\": \"Latin (Cuban, Dominican, Puerto Rican, South & Central American)\", \"grades\": [{\"date\": \"2015/01/07\", \"grade\": \"A\", \"score\": 11}, {\"date\": \"2014/05/29\", \"grade\": \"B\", \"score\": 17}, {\"date\": \"2013/11/19\", \"grade\": \"B\", \"score\": 16}, {\"date\": \"2013/05/28\", \"grade\": \"C\", \"score\": 53}, {\"date\": \"2012/11/15\", \"grade\": \"B\", \"score\": 14}, {\"date\": \"2012/05/15\", \"grade\": \"A\", \"score\": 13}], \"name\": \"El Azteca Mexican Restaurant\", \"restaurant_id\": \"40386927\"}\n",
      "{\"address\": {\"building\": \"244\", \"coord\": [-73.967893, 40.75682], \"street\": \"East   53 Street\", \"zipcode\": \"10022\"}, \"borough\": \"Manhattan\", \"cuisine\": \"American\", \"grades\": [{\"date\": \"2014/05/08\", \"grade\": \"A\", \"score\": 7}, {\"date\": \"2013/05/30\", \"grade\": \"A\", \"score\": 9}, {\"date\": \"2012/06/06\", \"grade\": \"A\", \"score\": 4}, {\"date\": \"2011/12/14\", \"grade\": \"A\", \"score\": 5}, {\"date\": \"2011/05/23\", \"grade\": \"B\", \"score\": 19}], \"name\": \"T & G Whitney'S\", \"restaurant_id\": \"40386970\"}\n",
      "{\"address\": {\"building\": \"110\", \"coord\": [-74.0045136, 40.7236625], \"street\": \"Avenue Of The Americas\", \"zipcode\": \"10013\"}, \"borough\": \"Manhattan\", \"cuisine\": \"Mexican\", \"grades\": [{\"date\": \"2014/04/14\", \"grade\": \"A\", \"score\": 11}, {\"date\": \"2013/03/27\", \"grade\": \"A\", \"score\": 10}, {\"date\": \"2012/10/16\", \"grade\": \"A\", \"score\": 3}, {\"date\": \"2012/03/28\", \"grade\": \"B\", \"score\": 22}, {\"date\": \"2011/09/12\", \"grade\": \"A\", \"score\": 2}], \"name\": \"Lupe'S East L.A. Kitchen\", \"restaurant_id\": \"40386976\"}\n",
      "{\"address\": {\"building\": \"1396\", \"coord\": [-73.9573454, 40.7747147], \"street\": \"Third Avenue\", \"zipcode\": \"10075\"}, \"borough\": \"Manhattan\", \"cuisine\": \"Italian\", \"grades\": [{\"date\": \"2014/02/20\", \"grade\": \"A\", \"score\": 5}, {\"date\": \"2013/01/24\", \"grade\": \"A\", \"score\": 13}, {\"date\": \"2011/12/27\", \"grade\": \"A\", \"score\": 9}], \"name\": \"Due\", \"restaurant_id\": \"40386999\"}\n",
      "{\"address\": {\"building\": \"8707\", \"coord\": [-73.8789718, 40.7483467], \"street\": \"Roosevelt Avenue\", \"zipcode\": \"11372\"}, \"borough\": \"Queens\", \"cuisine\": \"Chicken\", \"grades\": [{\"date\": \"2014/12/11\", \"grade\": \"A\", \"score\": 12}, {\"date\": \"2013/12/04\", \"grade\": \"A\", \"score\": 2}, {\"date\": \"2013/06/15\", \"grade\": \"A\", \"score\": 13}, {\"date\": \"2012/05/21\", \"grade\": \"A\", \"score\": 7}], \"name\": \"La Casa Del Pollo Restaurant\", \"restaurant_id\": \"40387027\"}\n",
      "{\"address\": {\"building\": \"138\", \"coord\": [-73.99741519999999, 40.7186078], \"street\": \"Mulberry Street\", \"zipcode\": \"10013\"}, \"borough\": \"Manhattan\", \"cuisine\": \"Italian\", \"grades\": [{\"date\": \"2014/03/20\", \"grade\": \"A\", \"score\": 11}, {\"date\": \"2013/09/30\", \"grade\": \"A\", \"score\": 10}, {\"date\": \"2013/04/11\", \"grade\": \"A\", \"score\": 7}, {\"date\": \"2012/03/05\", \"grade\": \"A\", \"score\": 12}, {\"date\": \"2011/07/25\", \"grade\": \"A\", \"score\": 9}], \"name\": \"Pellegrino'S\", \"restaurant_id\": \"40387086\"}\n",
      "{\"address\": {\"building\": \"1677\", \"coord\": [-73.87113099999999, 40.825183], \"street\": \"Bruckner Boulevard\", \"zipcode\": \"10472\"}, \"borough\": \"Bronx\", \"cuisine\": \"Hamburgers\", \"grades\": [{\"date\": \"2013/12/13\", \"grade\": \"A\", \"score\": 7}, {\"date\": \"2012/12/06\", \"grade\": \"A\", \"score\": 11}, {\"date\": \"2011/12/22\", \"grade\": \"A\", \"score\": 9}, {\"date\": \"2011/01/12\", \"grade\": \"A\", \"score\": 2}], \"name\": \"White Castle\", \"restaurant_id\": \"40387143\"}\n",
      "{\"address\": {\"building\": \"107\", \"coord\": [-73.99582699999999, 40.739672], \"street\": \"West   17 Street\", \"zipcode\": \"10011\"}, \"borough\": \"Manhattan\", \"cuisine\": \"Italian\", \"grades\": [{\"date\": \"2014/11/10\", \"grade\": \"A\", \"score\": 12}, {\"date\": \"2014/03/05\", \"grade\": \"A\", \"score\": 13}, {\"date\": \"2013/05/01\", \"grade\": \"A\", \"score\": 12}, {\"date\": \"2012/10/23\", \"grade\": \"A\", \"score\": 13}, {\"date\": \"2012/10/03\", \"grade\": \"P\", \"score\": 5}], \"name\": \"Da Umberto Restaurant\", \"restaurant_id\": \"40387162\"}\n",
      "{\"address\": {\"building\": \"550\", \"coord\": [-73.8864787, 40.8588703], \"street\": \"East Fordham Road\", \"zipcode\": \"10458\"}, \"borough\": \"Bronx\", \"cuisine\": \"Hamburgers\", \"grades\": [{\"date\": \"2014/03/27\", \"grade\": \"A\", \"score\": 5}, {\"date\": \"2013/03/19\", \"grade\": \"A\", \"score\": 2}, {\"date\": \"2012/10/23\", \"grade\": \"A\", \"score\": 13}, {\"date\": \"2011/11/03\", \"grade\": \"A\", \"score\": 10}], \"name\": \"White Castle\", \"restaurant_id\": \"40387178\"}\n",
      "{\"address\": {\"building\": \"96\", \"coord\": [-73.9585056, 40.7193481], \"street\": \"Berry Street\", \"zipcode\": \"11249\"}, \"borough\": \"Brooklyn\", \"cuisine\": \"American\", \"grades\": [{\"date\": \"2014/12/08\", \"grade\": \"A\", \"score\": 13}, {\"date\": \"2013/10/24\", \"grade\": \"A\", \"score\": 4}, {\"date\": \"2013/05/22\", \"grade\": \"A\", \"score\": 11}, {\"date\": \"2012/12/10\", \"grade\": \"B\", \"score\": 15}], \"name\": \"Teddy'S Bar And Grill\", \"restaurant_id\": \"40387201\"}\n",
      "{\"address\": {\"building\": \"14\", \"coord\": [-73.9883909, 40.740735], \"street\": \"East   23 Street\", \"zipcode\": \"10010\"}, \"borough\": \"Manhattan\", \"cuisine\": \"American\", \"grades\": [{\"date\": \"2014/10/28\", \"grade\": \"A\", \"score\": 9}, {\"date\": \"2014/04/10\", \"grade\": \"A\", \"score\": 12}, {\"date\": \"2013/08/08\", \"grade\": \"C\", \"score\": 58}, {\"date\": \"2013/02/14\", \"grade\": \"A\", \"score\": 13}, {\"date\": \"2012/06/15\", \"grade\": \"C\", \"score\": 71}], \"name\": \"Live Bait Bar & Restaurant\", \"restaurant_id\": \"40387237\"}\n",
      "{\"address\": {\"building\": \"280\", \"coord\": [-74.1386716, 40.6160213], \"street\": \"Watchogue Road\", \"zipcode\": \"10314\"}, \"borough\": \"Staten Island\", \"cuisine\": \"American\", \"grades\": [{\"date\": \"2014/07/15\", \"grade\": \"B\", \"score\": 19}, {\"date\": \"2013/12/03\", \"grade\": \"B\", \"score\": 25}, {\"date\": \"2013/05/07\", \"grade\": \"A\", \"score\": 10}, {\"date\": \"2012/06/19\", \"grade\": \"A\", \"score\": 9}, {\"date\": \"2011/12/01\", \"grade\": \"B\", \"score\": 15}, {\"date\": \"2011/07/26\", \"grade\": \"C\", \"score\": 36}], \"name\": \"Jimmy Max Restaurant\", \"restaurant_id\": \"40387243\"}\n",
      "{\"address\": {\"building\": \"145\", \"coord\": [-73.99905799999999, 40.72837800000001], \"street\": \"Bleecker Street\", \"zipcode\": \"10012\"}, \"borough\": \"Manhattan\", \"cuisine\": \"American\", \"grades\": [{\"date\": \"2014/04/01\", \"grade\": \"B\", \"score\": 16}, {\"date\": \"2013/08/06\", \"grade\": \"B\", \"score\": 18}, {\"date\": \"2013/03/12\", \"grade\": \"A\", \"score\": 12}, {\"date\": \"2012/06/12\", \"grade\": \"B\", \"score\": 14}], \"name\": \"Peculiar Pub\", \"restaurant_id\": \"40387277\"}\n",
      "{\"address\": {\"building\": \"484\", \"coord\": [-73.9932633, 40.752437], \"street\": \"8 Avenue\", \"zipcode\": \"10001\"}, \"borough\": \"Manhattan\", \"cuisine\": \"American\", \"grades\": [{\"date\": \"2014/10/07\", \"grade\": \"A\", \"score\": 10}, {\"date\": \"2013/09/17\", \"grade\": \"A\", \"score\": 12}, {\"date\": \"2013/05/15\", \"grade\": \"A\", \"score\": 3}, {\"date\": \"2012/02/21\", \"grade\": \"A\", \"score\": 10}], \"name\": \"T.G.I. Friday'S\", \"restaurant_id\": \"40387324\"}\n",
      "{\"address\": {\"building\": \"432\", \"coord\": [-73.97495669999999, 40.7833], \"street\": \"Columbus Avenue\", \"zipcode\": \"10024\"}, \"borough\": \"Manhattan\", \"cuisine\": \"Pizza/Italian\", \"grades\": [{\"date\": \"2014/08/04\", \"grade\": \"A\", \"score\": 12}, {\"date\": \"2014/03/10\", \"grade\": \"A\", \"score\": 2}, {\"date\": \"2013/07/10\", \"grade\": \"B\", \"score\": 20}, {\"date\": \"2012/06/13\", \"grade\": \"A\", \"score\": 9}, {\"date\": \"2011/11/16\", \"grade\": \"A\", \"score\": 13}, {\"date\": \"2011/08/09\", \"grade\": \"C\", \"score\": 8}], \"name\": \"Uno Chicago Grill\", \"restaurant_id\": \"40387339\"}\n",
      "{\"address\": {\"building\": \"201\", \"coord\": [-73.97672659999999, 40.78598119999999], \"street\": \"West   83 Street\", \"zipcode\": \"10024\"}, \"borough\": \"Manhattan\", \"cuisine\": \"Caf\\u00e9/Coffee/Tea\", \"grades\": [{\"date\": \"2014/09/24\", \"grade\": \"Z\", \"score\": 50}, {\"date\": \"2013/09/27\", \"grade\": \"A\", \"score\": 10}, {\"date\": \"2013/05/08\", \"grade\": \"A\", \"score\": 12}, {\"date\": \"2012/02/09\", \"grade\": \"A\", \"score\": 3}, {\"date\": \"2011/10/05\", \"grade\": \"A\", \"score\": 6}], \"name\": \"Cafe Lalo\", \"restaurant_id\": \"40387357\"}\n",
      "{\"address\": {\"building\": \"5189A\", \"coord\": [-73.91039789999999, 40.8745536], \"street\": \"Broadway\", \"zipcode\": \"10463\"}, \"borough\": \"Bronx\", \"cuisine\": \"Pizza\", \"grades\": [{\"date\": \"2015/01/09\", \"grade\": \"A\", \"score\": 10}, {\"date\": \"2014/06/23\", \"grade\": \"A\", \"score\": 9}, {\"date\": \"2013/10/16\", \"grade\": \"A\", \"score\": 10}, {\"date\": \"2013/05/15\", \"grade\": \"C\", \"score\": 13}, {\"date\": \"2012/09/20\", \"grade\": \"A\", \"score\": 4}, {\"date\": \"2012/04/23\", \"grade\": \"A\", \"score\": 12}], \"name\": \"Arturo'S Pizza\", \"restaurant_id\": \"40387399\"}\n",
      "{\"address\": {\"building\": \"975979\", \"coord\": [-73.9641006, 40.7566992], \"street\": \"First Avenue\", \"zipcode\": \"10022\"}, \"borough\": \"Manhattan\", \"cuisine\": \"Delicatessen\", \"grades\": [{\"date\": \"2014/08/29\", \"grade\": \"A\", \"score\": 9}, {\"date\": \"2014/03/11\", \"grade\": \"A\", \"score\": 9}, {\"date\": \"2013/07/15\", \"grade\": \"B\", \"score\": 14}, {\"date\": \"2013/02/15\", \"grade\": \"A\", \"score\": 11}, {\"date\": \"2012/06/20\", \"grade\": \"A\", \"score\": 7}, {\"date\": \"2012/01/11\", \"grade\": \"A\", \"score\": 12}], \"name\": \"Tal Bagels Deli\", \"restaurant_id\": \"40387418\"}\n",
      "{\"address\": {\"building\": \"1357\", \"coord\": [-73.9497152, 40.653664], \"street\": \"Nostrand Avenue\", \"zipcode\": \"11226\"}, \"borough\": \"Brooklyn\", \"cuisine\": \"Caribbean\", \"grades\": [{\"date\": \"2013/11/20\", \"grade\": \"A\", \"score\": 5}, {\"date\": \"2012/09/12\", \"grade\": \"A\", \"score\": 9}, {\"date\": \"2012/02/28\", \"grade\": \"A\", \"score\": 12}, {\"date\": \"2011/10/12\", \"grade\": \"A\", \"score\": 11}], \"name\": \"Nostrand Island Eatery\", \"restaurant_id\": \"40387428\"}\n",
      "{\"address\": {\"building\": \"772\", \"coord\": [-73.90745059999999, 40.81268559999999], \"street\": \"East  149 Street\", \"zipcode\": \"10455\"}, \"borough\": \"Bronx\", \"cuisine\": \"Italian\", \"grades\": [{\"date\": \"2014/02/20\", \"grade\": \"A\", \"score\": 12}, {\"date\": \"2013/02/04\", \"grade\": \"A\", \"score\": 11}, {\"date\": \"2012/02/06\", \"grade\": \"A\", \"score\": 5}, {\"date\": \"2011/09/27\", \"grade\": \"A\", \"score\": 11}, {\"date\": \"2011/05/09\", \"grade\": \"A\", \"score\": 7}], \"name\": \"Venice Restaurant\", \"restaurant_id\": \"40387477\"}\n",
      "{\"address\": {\"building\": \"881\", \"coord\": [-73.9105009, 40.8005198], \"street\": \"East  134 Street\", \"zipcode\": \"10454\"}, \"borough\": \"Bronx\", \"cuisine\": \"American\", \"grades\": [{\"date\": \"2014/03/05\", \"grade\": \"A\", \"score\": 7}, {\"date\": \"2013/02/26\", \"grade\": \"A\", \"score\": 10}, {\"date\": \"2012/02/29\", \"grade\": \"A\", \"score\": 2}, {\"date\": \"2011/10/11\", \"grade\": \"A\", \"score\": 12}, {\"date\": \"2011/05/31\", \"grade\": \"A\", \"score\": 12}], \"name\": \"Walnut Bus Stop\", \"restaurant_id\": \"40387528\"}\n",
      "{\"address\": {\"building\": \"136-11\", \"coord\": [-73.8290925, 40.7587999], \"street\": \"41 Avenue\", \"zipcode\": \"11355\"}, \"borough\": \"Queens\", \"cuisine\": \"American\", \"grades\": [{\"date\": \"2014/08/21\", \"grade\": \"A\", \"score\": 11}, {\"date\": \"2014/03/12\", \"grade\": \"A\", \"score\": 5}, {\"date\": \"2013/02/13\", \"grade\": \"A\", \"score\": 7}, {\"date\": \"2012/02/09\", \"grade\": \"A\", \"score\": 10}], \"name\": \"Kelly'S Pub\", \"restaurant_id\": \"40387549\"}\n",
      "{\"address\": {\"building\": \"1258\", \"coord\": [-74.065258, 40.612447], \"street\": \"Bay Street\", \"zipcode\": \"10305\"}, \"borough\": \"Staten Island\", \"cuisine\": \"American\", \"grades\": [{\"date\": \"2014/12/17\", \"grade\": \"A\", \"score\": 8}, {\"date\": \"2014/05/21\", \"grade\": \"A\", \"score\": 7}, {\"date\": \"2013/12/12\", \"grade\": \"C\", \"score\": 2}, {\"date\": \"2013/04/04\", \"grade\": \"A\", \"score\": 7}, {\"date\": \"2012/09/11\", \"grade\": \"B\", \"score\": 26}, {\"date\": \"2012/02/18\", \"grade\": \"A\", \"score\": 9}], \"name\": \"Rosebank Tavern\", \"restaurant_id\": \"40387746\"}\n",
      "{\"address\": {\"building\": \"900\", \"coord\": [-73.9805746, 40.7652002], \"street\": \"7 Avenue\", \"zipcode\": \"10019\"}, \"borough\": \"Manhattan\", \"cuisine\": \"Italian\", \"grades\": [{\"date\": \"2014/10/27\", \"grade\": \"A\", \"score\": 11}, {\"date\": \"2013/09/09\", \"grade\": \"A\", \"score\": 9}, {\"date\": \"2013/04/04\", \"grade\": \"A\", \"score\": 9}, {\"date\": \"2012/08/15\", \"grade\": \"A\", \"score\": 2}], \"name\": \"Trattoria Della Arte\", \"restaurant_id\": \"40387754\"}\n",
      "{\"address\": {\"building\": \"842484\", \"coord\": [-73.98010790000001, 40.6862191], \"street\": \"20 -3Rd Avenue\", \"zipcode\": \"11209\"}, \"borough\": \"Brooklyn\", \"cuisine\": \"Italian\", \"grades\": [{\"date\": \"2015/01/14\", \"grade\": \"A\", \"score\": 11}, {\"date\": \"2014/04/09\", \"grade\": \"A\", \"score\": 9}, {\"date\": \"2013/09/26\", \"grade\": \"A\", \"score\": 11}, {\"date\": \"2012/07/11\", \"grade\": \"A\", \"score\": 13}], \"name\": \"Areo Restaurant\", \"restaurant_id\": \"40387787\"}\n",
      "{\"address\": {\"building\": \"614\", \"coord\": [-73.9916209, 40.7593916], \"street\": \"9 Avenue\", \"zipcode\": \"10036\"}, \"borough\": \"Manhattan\", \"cuisine\": \"American\", \"grades\": [{\"date\": \"2014/04/24\", \"grade\": \"A\", \"score\": 10}, {\"date\": \"2013/08/21\", \"grade\": \"B\", \"score\": 27}, {\"date\": \"2013/02/06\", \"grade\": \"A\", \"score\": 12}, {\"date\": \"2012/06/25\", \"grade\": \"A\", \"score\": 13}, {\"date\": \"2011/12/20\", \"grade\": \"B\", \"score\": 17}, {\"date\": \"2011/06/01\", \"grade\": \"A\", \"score\": 11}], \"name\": \"Westway Diner\", \"restaurant_id\": \"40387861\"}\n",
      "{\"address\": {\"building\": \"182\", \"coord\": [-73.9998818, 40.74289419999999], \"street\": \"8 Avenue\", \"zipcode\": \"10011\"}, \"borough\": \"Manhattan\", \"cuisine\": \"Mexican\", \"grades\": [{\"date\": \"2014/09/08\", \"grade\": \"A\", \"score\": 12}, {\"date\": \"2014/03/11\", \"grade\": \"A\", \"score\": 9}, {\"date\": \"2013/07/17\", \"grade\": \"A\", \"score\": 9}, {\"date\": \"2012/07/09\", \"grade\": \"A\", \"score\": 7}, {\"date\": \"2012/03/05\", \"grade\": \"A\", \"score\": 11}, {\"date\": \"2011/10/25\", \"grade\": \"A\", \"score\": 12}], \"name\": \"Rocking Horse Cafe\", \"restaurant_id\": \"40387876\"}\n",
      "{\"address\": {\"building\": \"548\", \"coord\": [-73.9983829, 40.7290603], \"street\": \"La Guardia Place\", \"zipcode\": \"10012\"}, \"borough\": \"Manhattan\", \"cuisine\": \"Italian\", \"grades\": [{\"date\": \"2014/12/04\", \"grade\": \"Z\", \"score\": 17}, {\"date\": \"2014/06/30\", \"grade\": \"A\", \"score\": 8}, {\"date\": \"2013/05/13\", \"grade\": \"A\", \"score\": 12}, {\"date\": \"2012/11/14\", \"grade\": \"B\", \"score\": 19}, {\"date\": \"2012/05/11\", \"grade\": \"A\", \"score\": 9}, {\"date\": \"2011/12/21\", \"grade\": \"C\", \"score\": 28}], \"name\": \"Tre Giovani Pizza & Pasta\", \"restaurant_id\": \"40387890\"}\n",
      "{\"address\": {\"building\": \"4083\", \"coord\": [-73.9391802, 40.844211], \"street\": \"Broadway\", \"zipcode\": \"10032\"}, \"borough\": \"Manhattan\", \"cuisine\": \"Latin (Cuban, Dominican, Puerto Rican, South & Central American)\", \"grades\": [{\"date\": \"2014/07/01\", \"grade\": \"A\", \"score\": 9}, {\"date\": \"2013/12/02\", \"grade\": \"B\", \"score\": 15}, {\"date\": \"2013/05/21\", \"grade\": \"B\", \"score\": 26}, {\"date\": \"2013/05/07\", \"grade\": \"P\", \"score\": 12}, {\"date\": \"2012/04/23\", \"grade\": \"A\", \"score\": 12}, {\"date\": \"2011/12/12\", \"grade\": \"B\", \"score\": 20}, {\"date\": \"2011/08/12\", \"grade\": \"A\", \"score\": 12}], \"name\": \"Galicia Restaurant\", \"restaurant_id\": \"40387907\"}\n",
      "{\"address\": {\"building\": \"1105\", \"coord\": [-73.95950400000001, 40.773716], \"street\": \"Lexington Avenue\", \"zipcode\": \"10075\"}, \"borough\": \"Manhattan\", \"cuisine\": \"American\", \"grades\": [{\"date\": \"2014/08/08\", \"grade\": \"A\", \"score\": 12}, {\"date\": \"2014/02/21\", \"grade\": \"A\", \"score\": 2}, {\"date\": \"2013/08/22\", \"grade\": \"B\", \"score\": 15}, {\"date\": \"2013/02/20\", \"grade\": \"A\", \"score\": 9}, {\"date\": \"2012/08/17\", \"grade\": \"A\", \"score\": 12}, {\"date\": \"2012/03/01\", \"grade\": \"A\", \"score\": 8}], \"name\": \"Lenox Hill Grill/Pizza\", \"restaurant_id\": \"40387986\"}\n",
      "{\"address\": {\"building\": \"47\", \"coord\": [-78.877224, 42.89546199999999], \"street\": \"Broadway @ Trinity Pl\", \"zipcode\": \"10006\"}, \"borough\": \"Manhattan\", \"cuisine\": \"American\", \"grades\": [{\"date\": \"2014/12/12\", \"grade\": \"A\", \"score\": 12}, {\"date\": \"2014/08/01\", \"grade\": \"A\", \"score\": 9}, {\"date\": \"2014/02/03\", \"grade\": \"A\", \"score\": 11}, {\"date\": \"2013/07/24\", \"grade\": \"A\", \"score\": 13}, {\"date\": \"2012/07/17\", \"grade\": \"A\", \"score\": 11}, {\"date\": \"2012/01/05\", \"grade\": \"A\", \"score\": 11}], \"name\": \"T.G.I. Friday'S\", \"restaurant_id\": \"40387990\"}\n",
      "{\"address\": {\"building\": \"2140\", \"coord\": [-73.8529552, 40.83376459999999], \"street\": \"Westchester Avenue\", \"zipcode\": \"10462\"}, \"borough\": \"Bronx\", \"cuisine\": \"Hamburgers\", \"grades\": [{\"date\": \"2014/07/15\", \"grade\": \"A\", \"score\": 5}, {\"date\": \"2014/01/02\", \"grade\": \"A\", \"score\": 12}, {\"date\": \"2013/05/29\", \"grade\": \"A\", \"score\": 3}, {\"date\": \"2012/10/10\", \"grade\": \"B\", \"score\": 21}, {\"date\": \"2012/05/23\", \"grade\": \"A\", \"score\": 13}, {\"date\": \"2011/12/29\", \"grade\": \"A\", \"score\": 9}], \"name\": \"Wendy'S\", \"restaurant_id\": \"40388016\"}\n",
      "{\"address\": {\"building\": \"1239\", \"coord\": [-73.9585846, 40.8097806], \"street\": \"Amsterdam Avenue\", \"zipcode\": \"10027\"}, \"borough\": \"Manhattan\", \"cuisine\": \"Ethiopian\", \"grades\": [{\"date\": \"2014/03/03\", \"grade\": \"A\", \"score\": 9}, {\"date\": \"2013/02/02\", \"grade\": \"A\", \"score\": 13}, {\"date\": \"2011/12/27\", \"grade\": \"A\", \"score\": 7}, {\"date\": \"2011/09/23\", \"grade\": \"A\", \"score\": 12}], \"name\": \"Masawa\", \"restaurant_id\": \"40388091\"}\n",
      "{\"address\": {\"building\": \"19\", \"coord\": [-73.94838039999999, 40.6325077], \"street\": \"Hillel Place\", \"zipcode\": \"11210\"}, \"borough\": \"Brooklyn\", \"cuisine\": \"Pizza\", \"grades\": [{\"date\": \"2014/07/08\", \"grade\": \"A\", \"score\": 11}, {\"date\": \"2013/07/16\", \"grade\": \"A\", \"score\": 5}, {\"date\": \"2012/07/26\", \"grade\": \"A\", \"score\": 3}, {\"date\": \"2011/08/15\", \"grade\": \"A\", \"score\": 10}], \"name\": \"Luigi'S Pizza\", \"restaurant_id\": \"40388134\"}\n",
      "{\"address\": {\"building\": \"200\", \"coord\": [-74.0051398, 40.7281648], \"street\": \"Varick Street\", \"zipcode\": \"10014\"}, \"borough\": \"Manhattan\", \"cuisine\": \"Latin (Cuban, Dominican, Puerto Rican, South & Central American)\", \"grades\": [{\"date\": \"2014/07/02\", \"grade\": \"A\", \"score\": 11}, {\"date\": \"2013/11/08\", \"grade\": \"A\", \"score\": 13}, {\"date\": \"2013/04/09\", \"grade\": \"B\", \"score\": 15}, {\"date\": \"2012/02/10\", \"grade\": \"A\", \"score\": 12}, {\"date\": \"2011/09/21\", \"grade\": \"A\", \"score\": 10}], \"name\": \"Sob'S\", \"restaurant_id\": \"40388194\"}\n",
      "{\"address\": {\"building\": \"1290\", \"coord\": [-73.9788903, 40.7605367], \"street\": \"Avenue Of Americas\", \"zipcode\": \"10119\"}, \"borough\": \"Manhattan\", \"cuisine\": \"Chinese\", \"grades\": [{\"date\": \"2014/09/23\", \"grade\": \"A\", \"score\": 10}, {\"date\": \"2013/12/11\", \"grade\": \"A\", \"score\": 12}, {\"date\": \"2013/04/09\", \"grade\": \"B\", \"score\": 26}, {\"date\": \"2012/10/04\", \"grade\": \"B\", \"score\": 23}, {\"date\": \"2012/05/07\", \"grade\": \"A\", \"score\": 13}, {\"date\": \"2011/12/20\", \"grade\": \"B\", \"score\": 22}], \"name\": \"Yip'S\", \"restaurant_id\": \"40388209\"}\n",
      "{\"address\": {\"building\": \"50\", \"coord\": [-73.976075, 40.780319], \"street\": \"West   77 Street\", \"zipcode\": \"10024\"}, \"borough\": \"Manhattan\", \"cuisine\": \"Italian\", \"grades\": [{\"date\": \"2014/05/14\", \"grade\": \"A\", \"score\": 9}, {\"date\": \"2013/09/06\", \"grade\": \"A\", \"score\": 9}, {\"date\": \"2012/12/28\", \"grade\": \"A\", \"score\": 6}, {\"date\": \"2012/03/30\", \"grade\": \"A\", \"score\": 10}], \"name\": \"Scaletta Ristorante\", \"restaurant_id\": \"40388214\"}\n",
      "{\"address\": {\"building\": \"16\", \"coord\": [-74.007032, 40.7196857], \"street\": \"No Moore Street\", \"zipcode\": \"10013\"}, \"borough\": \"Manhattan\", \"cuisine\": \"American\", \"grades\": [{\"date\": \"2014/08/25\", \"grade\": \"A\", \"score\": 8}, {\"date\": \"2013/08/05\", \"grade\": \"A\", \"score\": 5}, {\"date\": \"2012/08/02\", \"grade\": \"A\", \"score\": 13}], \"name\": \"Walker'S Restaurant\", \"restaurant_id\": \"40388218\"}\n",
      "{\"address\": {\"building\": \"532\", \"coord\": [-73.993494, 40.756672], \"street\": \"9 Avenue\", \"zipcode\": \"10018\"}, \"borough\": \"Manhattan\", \"cuisine\": \"American\", \"grades\": [{\"date\": \"2014/10/31\", \"grade\": \"Z\", \"score\": 47}, {\"date\": \"2013/11/04\", \"grade\": \"A\", \"score\": 13}, {\"date\": \"2013/06/18\", \"grade\": \"A\", \"score\": 11}, {\"date\": \"2012/06/29\", \"grade\": \"A\", \"score\": 12}, {\"date\": \"2011/12/30\", \"grade\": \"B\", \"score\": 19}], \"name\": \"Holland Bar\", \"restaurant_id\": \"40388225\"}\n"
     ]
    }
   ],
   "source": [
    "import json\n",
    "import datetime\n",
    "\n",
    "# Define the function to convert timestamps within a single restaurant's grades\n",
    "def convert_timestamp(restaurant):\n",
    "    if 'grades' in restaurant:\n",
    "        for grade in restaurant['grades']:\n",
    "            if 'date' in grade:\n",
    "                try:\n",
    "                    timestamp = grade['date']['$date'] / 1000  # Convert to seconds\n",
    "                    formatted_date = datetime.datetime.fromtimestamp(timestamp).strftime('%Y/%m/%d')\n",
    "                    grade['date'] = formatted_date\n",
    "                except (ValueError, KeyError):\n",
    "                    grade['date'] = 'Invalid Date'\n",
    "    return restaurant\n",
    "\n",
    "# Load your JSON data from a file\n",
    "with open('restaurant.json', 'r') as file:\n",
    "    restaurant_data = json.load(file)\n",
    "\n",
    "# Use map and lambda to apply the function to all instances in the JSON data\n",
    "updated_data = list(map(convert_timestamp, restaurant_data))\n",
    "\n",
    "# Print the updated data\n",
    "for restaurant in updated_data:\n",
    "    print(json.dumps(restaurant))\n",
    "\n",
    "\n"
   ]
  },
  {
   "cell_type": "code",
   "execution_count": 84,
   "metadata": {},
   "outputs": [
    {
     "name": "stdout",
     "output_type": "stream",
     "text": [
      "{\"address\": {\"building\": \"87-69\", \"coord\": [-73.8309503, 40.7001121], \"street\": \"Lefferts Boulevard\", \"zipcode\": \"11418\"}, \"borough\": \"Queens\", \"cuisine\": \"American\", \"grades\": [{\"date\": \"2014/02/25\", \"grade\": \"A\", \"score\": 7}, {\"date\": \"2013/08/14\", \"grade\": \"A\", \"score\": 11}, {\"date\": \"2012/08/07\", \"grade\": \"A\", \"score\": 7}, {\"date\": \"2012/03/26\", \"grade\": \"A\", \"score\": 10}, {\"date\": \"2011/11/04\", \"grade\": \"A\", \"score\": 0}, {\"date\": \"2011/06/29\", \"grade\": \"A\", \"score\": 4}], \"name\": \"Snack Time Grill\", \"restaurant_id\": \"40363590\"}\n",
      "{\"address\": {\"building\": \"1418\", \"coord\": [-73.95685019999999, 40.7753401], \"street\": \"Third Avenue\", \"zipcode\": \"10028\"}, \"borough\": \"Manhattan\", \"cuisine\": \"Continental\", \"grades\": [{\"date\": \"2014/06/02\", \"grade\": \"A\", \"score\": 9}, {\"date\": \"2013/12/27\", \"grade\": \"A\", \"score\": 8}, {\"date\": \"2013/03/18\", \"grade\": \"B\", \"score\": 26}, {\"date\": \"2012/02/01\", \"grade\": \"A\", \"score\": 7}, {\"date\": \"2011/07/06\", \"grade\": \"B\", \"score\": 25}], \"name\": \"Lorenzo & Maria'S\", \"restaurant_id\": \"40363630\"}\n",
      "{\"address\": {\"building\": \"464\", \"coord\": [-73.9791458, 40.744328], \"street\": \"3 Avenue\", \"zipcode\": \"10016\"}, \"borough\": \"Manhattan\", \"cuisine\": \"Pizza\", \"grades\": [{\"date\": \"2014/08/05\", \"grade\": \"A\", \"score\": 3}, {\"date\": \"2014/03/06\", \"grade\": \"A\", \"score\": 11}, {\"date\": \"2013/07/09\", \"grade\": \"A\", \"score\": 12}, {\"date\": \"2013/01/30\", \"grade\": \"A\", \"score\": 4}, {\"date\": \"2012/01/05\", \"grade\": \"A\", \"score\": 2}, {\"date\": \"2011/09/26\", \"grade\": \"A\", \"score\": 0}], \"name\": \"Domino'S Pizza\", \"restaurant_id\": \"40363644\"}\n",
      "{\"address\": {\"building\": \"437\", \"coord\": [-73.975393, 40.757365], \"street\": \"Madison Avenue\", \"zipcode\": \"10022\"}, \"borough\": \"Manhattan\", \"cuisine\": \"American\", \"grades\": [{\"date\": \"2014/06/03\", \"grade\": \"A\", \"score\": 9}, {\"date\": \"2013/06/07\", \"grade\": \"A\", \"score\": 5}, {\"date\": \"2012/06/29\", \"grade\": \"A\", \"score\": 12}, {\"date\": \"2012/02/06\", \"grade\": \"A\", \"score\": 11}, {\"date\": \"2011/06/23\", \"grade\": \"A\", \"score\": 13}], \"name\": \"Berkely\", \"restaurant_id\": \"40363685\"}\n",
      "{\"address\": {\"building\": \"222-05\", \"coord\": [-73.75767259999999, 40.7538214], \"street\": \"56 Avenue\", \"zipcode\": \"11364\"}, \"borough\": \"Queens\", \"cuisine\": \"American\", \"grades\": [{\"date\": \"2014/08/05\", \"grade\": \"A\", \"score\": 10}, {\"date\": \"2014/02/05\", \"grade\": \"A\", \"score\": 9}, {\"date\": \"2013/07/16\", \"grade\": \"A\", \"score\": 11}, {\"date\": \"2012/12/05\", \"grade\": \"A\", \"score\": 5}, {\"date\": \"2012/06/19\", \"grade\": \"A\", \"score\": 13}], \"name\": \"Science Cafe (Queensborough  Community College)\", \"restaurant_id\": \"40386793\"}\n",
      "{\"address\": {\"building\": \"783\", \"coord\": [-73.988231, 40.76503200000001], \"street\": \"9 Avenue\", \"zipcode\": \"10019\"}, \"borough\": \"Manhattan\", \"cuisine\": \"Latin (Cuban, Dominican, Puerto Rican, South & Central American)\", \"grades\": [{\"date\": \"2015/01/07\", \"grade\": \"A\", \"score\": 11}, {\"date\": \"2014/05/29\", \"grade\": \"B\", \"score\": 17}, {\"date\": \"2013/11/19\", \"grade\": \"B\", \"score\": 16}, {\"date\": \"2013/05/28\", \"grade\": \"C\", \"score\": 53}, {\"date\": \"2012/11/15\", \"grade\": \"B\", \"score\": 14}, {\"date\": \"2012/05/15\", \"grade\": \"A\", \"score\": 13}], \"name\": \"El Azteca Mexican Restaurant\", \"restaurant_id\": \"40386927\"}\n",
      "{\"address\": {\"building\": \"244\", \"coord\": [-73.967893, 40.75682], \"street\": \"East   53 Street\", \"zipcode\": \"10022\"}, \"borough\": \"Manhattan\", \"cuisine\": \"American\", \"grades\": [{\"date\": \"2014/05/08\", \"grade\": \"A\", \"score\": 7}, {\"date\": \"2013/05/30\", \"grade\": \"A\", \"score\": 9}, {\"date\": \"2012/06/06\", \"grade\": \"A\", \"score\": 4}, {\"date\": \"2011/12/14\", \"grade\": \"A\", \"score\": 5}, {\"date\": \"2011/05/23\", \"grade\": \"B\", \"score\": 19}], \"name\": \"T & G Whitney'S\", \"restaurant_id\": \"40386970\"}\n",
      "{\"address\": {\"building\": \"110\", \"coord\": [-74.0045136, 40.7236625], \"street\": \"Avenue Of The Americas\", \"zipcode\": \"10013\"}, \"borough\": \"Manhattan\", \"cuisine\": \"Mexican\", \"grades\": [{\"date\": \"2014/04/14\", \"grade\": \"A\", \"score\": 11}, {\"date\": \"2013/03/27\", \"grade\": \"A\", \"score\": 10}, {\"date\": \"2012/10/16\", \"grade\": \"A\", \"score\": 3}, {\"date\": \"2012/03/28\", \"grade\": \"B\", \"score\": 22}, {\"date\": \"2011/09/12\", \"grade\": \"A\", \"score\": 2}], \"name\": \"Lupe'S East L.A. Kitchen\", \"restaurant_id\": \"40386976\"}\n",
      "{\"address\": {\"building\": \"138\", \"coord\": [-73.99741519999999, 40.7186078], \"street\": \"Mulberry Street\", \"zipcode\": \"10013\"}, \"borough\": \"Manhattan\", \"cuisine\": \"Italian\", \"grades\": [{\"date\": \"2014/03/20\", \"grade\": \"A\", \"score\": 11}, {\"date\": \"2013/09/30\", \"grade\": \"A\", \"score\": 10}, {\"date\": \"2013/04/11\", \"grade\": \"A\", \"score\": 7}, {\"date\": \"2012/03/05\", \"grade\": \"A\", \"score\": 12}, {\"date\": \"2011/07/25\", \"grade\": \"A\", \"score\": 9}], \"name\": \"Pellegrino'S\", \"restaurant_id\": \"40387086\"}\n",
      "{\"address\": {\"building\": \"107\", \"coord\": [-73.99582699999999, 40.739672], \"street\": \"West   17 Street\", \"zipcode\": \"10011\"}, \"borough\": \"Manhattan\", \"cuisine\": \"Italian\", \"grades\": [{\"date\": \"2014/11/10\", \"grade\": \"A\", \"score\": 12}, {\"date\": \"2014/03/05\", \"grade\": \"A\", \"score\": 13}, {\"date\": \"2013/05/01\", \"grade\": \"A\", \"score\": 12}, {\"date\": \"2012/10/23\", \"grade\": \"A\", \"score\": 13}, {\"date\": \"2012/10/03\", \"grade\": \"P\", \"score\": 5}], \"name\": \"Da Umberto Restaurant\", \"restaurant_id\": \"40387162\"}\n",
      "{\"address\": {\"building\": \"14\", \"coord\": [-73.9883909, 40.740735], \"street\": \"East   23 Street\", \"zipcode\": \"10010\"}, \"borough\": \"Manhattan\", \"cuisine\": \"American\", \"grades\": [{\"date\": \"2014/10/28\", \"grade\": \"A\", \"score\": 9}, {\"date\": \"2014/04/10\", \"grade\": \"A\", \"score\": 12}, {\"date\": \"2013/08/08\", \"grade\": \"C\", \"score\": 58}, {\"date\": \"2013/02/14\", \"grade\": \"A\", \"score\": 13}, {\"date\": \"2012/06/15\", \"grade\": \"C\", \"score\": 71}], \"name\": \"Live Bait Bar & Restaurant\", \"restaurant_id\": \"40387237\"}\n",
      "{\"address\": {\"building\": \"280\", \"coord\": [-74.1386716, 40.6160213], \"street\": \"Watchogue Road\", \"zipcode\": \"10314\"}, \"borough\": \"Staten Island\", \"cuisine\": \"American\", \"grades\": [{\"date\": \"2014/07/15\", \"grade\": \"B\", \"score\": 19}, {\"date\": \"2013/12/03\", \"grade\": \"B\", \"score\": 25}, {\"date\": \"2013/05/07\", \"grade\": \"A\", \"score\": 10}, {\"date\": \"2012/06/19\", \"grade\": \"A\", \"score\": 9}, {\"date\": \"2011/12/01\", \"grade\": \"B\", \"score\": 15}, {\"date\": \"2011/07/26\", \"grade\": \"C\", \"score\": 36}], \"name\": \"Jimmy Max Restaurant\", \"restaurant_id\": \"40387243\"}\n",
      "{\"address\": {\"building\": \"432\", \"coord\": [-73.97495669999999, 40.7833], \"street\": \"Columbus Avenue\", \"zipcode\": \"10024\"}, \"borough\": \"Manhattan\", \"cuisine\": \"Pizza/Italian\", \"grades\": [{\"date\": \"2014/08/04\", \"grade\": \"A\", \"score\": 12}, {\"date\": \"2014/03/10\", \"grade\": \"A\", \"score\": 2}, {\"date\": \"2013/07/10\", \"grade\": \"B\", \"score\": 20}, {\"date\": \"2012/06/13\", \"grade\": \"A\", \"score\": 9}, {\"date\": \"2011/11/16\", \"grade\": \"A\", \"score\": 13}, {\"date\": \"2011/08/09\", \"grade\": \"C\", \"score\": 8}], \"name\": \"Uno Chicago Grill\", \"restaurant_id\": \"40387339\"}\n",
      "{\"address\": {\"building\": \"201\", \"coord\": [-73.97672659999999, 40.78598119999999], \"street\": \"West   83 Street\", \"zipcode\": \"10024\"}, \"borough\": \"Manhattan\", \"cuisine\": \"Caf\\u00e9/Coffee/Tea\", \"grades\": [{\"date\": \"2014/09/24\", \"grade\": \"Z\", \"score\": 50}, {\"date\": \"2013/09/27\", \"grade\": \"A\", \"score\": 10}, {\"date\": \"2013/05/08\", \"grade\": \"A\", \"score\": 12}, {\"date\": \"2012/02/09\", \"grade\": \"A\", \"score\": 3}, {\"date\": \"2011/10/05\", \"grade\": \"A\", \"score\": 6}], \"name\": \"Cafe Lalo\", \"restaurant_id\": \"40387357\"}\n",
      "{\"address\": {\"building\": \"5189A\", \"coord\": [-73.91039789999999, 40.8745536], \"street\": \"Broadway\", \"zipcode\": \"10463\"}, \"borough\": \"Bronx\", \"cuisine\": \"Pizza\", \"grades\": [{\"date\": \"2015/01/09\", \"grade\": \"A\", \"score\": 10}, {\"date\": \"2014/06/23\", \"grade\": \"A\", \"score\": 9}, {\"date\": \"2013/10/16\", \"grade\": \"A\", \"score\": 10}, {\"date\": \"2013/05/15\", \"grade\": \"C\", \"score\": 13}, {\"date\": \"2012/09/20\", \"grade\": \"A\", \"score\": 4}, {\"date\": \"2012/04/23\", \"grade\": \"A\", \"score\": 12}], \"name\": \"Arturo'S Pizza\", \"restaurant_id\": \"40387399\"}\n",
      "{\"address\": {\"building\": \"975979\", \"coord\": [-73.9641006, 40.7566992], \"street\": \"First Avenue\", \"zipcode\": \"10022\"}, \"borough\": \"Manhattan\", \"cuisine\": \"Delicatessen\", \"grades\": [{\"date\": \"2014/08/29\", \"grade\": \"A\", \"score\": 9}, {\"date\": \"2014/03/11\", \"grade\": \"A\", \"score\": 9}, {\"date\": \"2013/07/15\", \"grade\": \"B\", \"score\": 14}, {\"date\": \"2013/02/15\", \"grade\": \"A\", \"score\": 11}, {\"date\": \"2012/06/20\", \"grade\": \"A\", \"score\": 7}, {\"date\": \"2012/01/11\", \"grade\": \"A\", \"score\": 12}], \"name\": \"Tal Bagels Deli\", \"restaurant_id\": \"40387418\"}\n",
      "{\"address\": {\"building\": \"772\", \"coord\": [-73.90745059999999, 40.81268559999999], \"street\": \"East  149 Street\", \"zipcode\": \"10455\"}, \"borough\": \"Bronx\", \"cuisine\": \"Italian\", \"grades\": [{\"date\": \"2014/02/20\", \"grade\": \"A\", \"score\": 12}, {\"date\": \"2013/02/04\", \"grade\": \"A\", \"score\": 11}, {\"date\": \"2012/02/06\", \"grade\": \"A\", \"score\": 5}, {\"date\": \"2011/09/27\", \"grade\": \"A\", \"score\": 11}, {\"date\": \"2011/05/09\", \"grade\": \"A\", \"score\": 7}], \"name\": \"Venice Restaurant\", \"restaurant_id\": \"40387477\"}\n",
      "{\"address\": {\"building\": \"881\", \"coord\": [-73.9105009, 40.8005198], \"street\": \"East  134 Street\", \"zipcode\": \"10454\"}, \"borough\": \"Bronx\", \"cuisine\": \"American\", \"grades\": [{\"date\": \"2014/03/05\", \"grade\": \"A\", \"score\": 7}, {\"date\": \"2013/02/26\", \"grade\": \"A\", \"score\": 10}, {\"date\": \"2012/02/29\", \"grade\": \"A\", \"score\": 2}, {\"date\": \"2011/10/11\", \"grade\": \"A\", \"score\": 12}, {\"date\": \"2011/05/31\", \"grade\": \"A\", \"score\": 12}], \"name\": \"Walnut Bus Stop\", \"restaurant_id\": \"40387528\"}\n",
      "{\"address\": {\"building\": \"1258\", \"coord\": [-74.065258, 40.612447], \"street\": \"Bay Street\", \"zipcode\": \"10305\"}, \"borough\": \"Staten Island\", \"cuisine\": \"American\", \"grades\": [{\"date\": \"2014/12/17\", \"grade\": \"A\", \"score\": 8}, {\"date\": \"2014/05/21\", \"grade\": \"A\", \"score\": 7}, {\"date\": \"2013/12/12\", \"grade\": \"C\", \"score\": 2}, {\"date\": \"2013/04/04\", \"grade\": \"A\", \"score\": 7}, {\"date\": \"2012/09/11\", \"grade\": \"B\", \"score\": 26}, {\"date\": \"2012/02/18\", \"grade\": \"A\", \"score\": 9}], \"name\": \"Rosebank Tavern\", \"restaurant_id\": \"40387746\"}\n",
      "{\"address\": {\"building\": \"614\", \"coord\": [-73.9916209, 40.7593916], \"street\": \"9 Avenue\", \"zipcode\": \"10036\"}, \"borough\": \"Manhattan\", \"cuisine\": \"American\", \"grades\": [{\"date\": \"2014/04/24\", \"grade\": \"A\", \"score\": 10}, {\"date\": \"2013/08/21\", \"grade\": \"B\", \"score\": 27}, {\"date\": \"2013/02/06\", \"grade\": \"A\", \"score\": 12}, {\"date\": \"2012/06/25\", \"grade\": \"A\", \"score\": 13}, {\"date\": \"2011/12/20\", \"grade\": \"B\", \"score\": 17}, {\"date\": \"2011/06/01\", \"grade\": \"A\", \"score\": 11}], \"name\": \"Westway Diner\", \"restaurant_id\": \"40387861\"}\n",
      "{\"address\": {\"building\": \"182\", \"coord\": [-73.9998818, 40.74289419999999], \"street\": \"8 Avenue\", \"zipcode\": \"10011\"}, \"borough\": \"Manhattan\", \"cuisine\": \"Mexican\", \"grades\": [{\"date\": \"2014/09/08\", \"grade\": \"A\", \"score\": 12}, {\"date\": \"2014/03/11\", \"grade\": \"A\", \"score\": 9}, {\"date\": \"2013/07/17\", \"grade\": \"A\", \"score\": 9}, {\"date\": \"2012/07/09\", \"grade\": \"A\", \"score\": 7}, {\"date\": \"2012/03/05\", \"grade\": \"A\", \"score\": 11}, {\"date\": \"2011/10/25\", \"grade\": \"A\", \"score\": 12}], \"name\": \"Rocking Horse Cafe\", \"restaurant_id\": \"40387876\"}\n",
      "{\"address\": {\"building\": \"548\", \"coord\": [-73.9983829, 40.7290603], \"street\": \"La Guardia Place\", \"zipcode\": \"10012\"}, \"borough\": \"Manhattan\", \"cuisine\": \"Italian\", \"grades\": [{\"date\": \"2014/12/04\", \"grade\": \"Z\", \"score\": 17}, {\"date\": \"2014/06/30\", \"grade\": \"A\", \"score\": 8}, {\"date\": \"2013/05/13\", \"grade\": \"A\", \"score\": 12}, {\"date\": \"2012/11/14\", \"grade\": \"B\", \"score\": 19}, {\"date\": \"2012/05/11\", \"grade\": \"A\", \"score\": 9}, {\"date\": \"2011/12/21\", \"grade\": \"C\", \"score\": 28}], \"name\": \"Tre Giovani Pizza & Pasta\", \"restaurant_id\": \"40387890\"}\n",
      "{\"address\": {\"building\": \"4083\", \"coord\": [-73.9391802, 40.844211], \"street\": \"Broadway\", \"zipcode\": \"10032\"}, \"borough\": \"Manhattan\", \"cuisine\": \"Latin (Cuban, Dominican, Puerto Rican, South & Central American)\", \"grades\": [{\"date\": \"2014/07/01\", \"grade\": \"A\", \"score\": 9}, {\"date\": \"2013/12/02\", \"grade\": \"B\", \"score\": 15}, {\"date\": \"2013/05/21\", \"grade\": \"B\", \"score\": 26}, {\"date\": \"2013/05/07\", \"grade\": \"P\", \"score\": 12}, {\"date\": \"2012/04/23\", \"grade\": \"A\", \"score\": 12}, {\"date\": \"2011/12/12\", \"grade\": \"B\", \"score\": 20}, {\"date\": \"2011/08/12\", \"grade\": \"A\", \"score\": 12}], \"name\": \"Galicia Restaurant\", \"restaurant_id\": \"40387907\"}\n",
      "{\"address\": {\"building\": \"1105\", \"coord\": [-73.95950400000001, 40.773716], \"street\": \"Lexington Avenue\", \"zipcode\": \"10075\"}, \"borough\": \"Manhattan\", \"cuisine\": \"American\", \"grades\": [{\"date\": \"2014/08/08\", \"grade\": \"A\", \"score\": 12}, {\"date\": \"2014/02/21\", \"grade\": \"A\", \"score\": 2}, {\"date\": \"2013/08/22\", \"grade\": \"B\", \"score\": 15}, {\"date\": \"2013/02/20\", \"grade\": \"A\", \"score\": 9}, {\"date\": \"2012/08/17\", \"grade\": \"A\", \"score\": 12}, {\"date\": \"2012/03/01\", \"grade\": \"A\", \"score\": 8}], \"name\": \"Lenox Hill Grill/Pizza\", \"restaurant_id\": \"40387986\"}\n",
      "{\"address\": {\"building\": \"47\", \"coord\": [-78.877224, 42.89546199999999], \"street\": \"Broadway @ Trinity Pl\", \"zipcode\": \"10006\"}, \"borough\": \"Manhattan\", \"cuisine\": \"American\", \"grades\": [{\"date\": \"2014/12/12\", \"grade\": \"A\", \"score\": 12}, {\"date\": \"2014/08/01\", \"grade\": \"A\", \"score\": 9}, {\"date\": \"2014/02/03\", \"grade\": \"A\", \"score\": 11}, {\"date\": \"2013/07/24\", \"grade\": \"A\", \"score\": 13}, {\"date\": \"2012/07/17\", \"grade\": \"A\", \"score\": 11}, {\"date\": \"2012/01/05\", \"grade\": \"A\", \"score\": 11}], \"name\": \"T.G.I. Friday'S\", \"restaurant_id\": \"40387990\"}\n",
      "{\"address\": {\"building\": \"2140\", \"coord\": [-73.8529552, 40.83376459999999], \"street\": \"Westchester Avenue\", \"zipcode\": \"10462\"}, \"borough\": \"Bronx\", \"cuisine\": \"Hamburgers\", \"grades\": [{\"date\": \"2014/07/15\", \"grade\": \"A\", \"score\": 5}, {\"date\": \"2014/01/02\", \"grade\": \"A\", \"score\": 12}, {\"date\": \"2013/05/29\", \"grade\": \"A\", \"score\": 3}, {\"date\": \"2012/10/10\", \"grade\": \"B\", \"score\": 21}, {\"date\": \"2012/05/23\", \"grade\": \"A\", \"score\": 13}, {\"date\": \"2011/12/29\", \"grade\": \"A\", \"score\": 9}], \"name\": \"Wendy'S\", \"restaurant_id\": \"40388016\"}\n",
      "{\"address\": {\"building\": \"200\", \"coord\": [-74.0051398, 40.7281648], \"street\": \"Varick Street\", \"zipcode\": \"10014\"}, \"borough\": \"Manhattan\", \"cuisine\": \"Latin (Cuban, Dominican, Puerto Rican, South & Central American)\", \"grades\": [{\"date\": \"2014/07/02\", \"grade\": \"A\", \"score\": 11}, {\"date\": \"2013/11/08\", \"grade\": \"A\", \"score\": 13}, {\"date\": \"2013/04/09\", \"grade\": \"B\", \"score\": 15}, {\"date\": \"2012/02/10\", \"grade\": \"A\", \"score\": 12}, {\"date\": \"2011/09/21\", \"grade\": \"A\", \"score\": 10}], \"name\": \"Sob'S\", \"restaurant_id\": \"40388194\"}\n",
      "{\"address\": {\"building\": \"1290\", \"coord\": [-73.9788903, 40.7605367], \"street\": \"Avenue Of Americas\", \"zipcode\": \"10119\"}, \"borough\": \"Manhattan\", \"cuisine\": \"Chinese\", \"grades\": [{\"date\": \"2014/09/23\", \"grade\": \"A\", \"score\": 10}, {\"date\": \"2013/12/11\", \"grade\": \"A\", \"score\": 12}, {\"date\": \"2013/04/09\", \"grade\": \"B\", \"score\": 26}, {\"date\": \"2012/10/04\", \"grade\": \"B\", \"score\": 23}, {\"date\": \"2012/05/07\", \"grade\": \"A\", \"score\": 13}, {\"date\": \"2011/12/20\", \"grade\": \"B\", \"score\": 22}], \"name\": \"Yip'S\", \"restaurant_id\": \"40388209\"}\n",
      "{\"address\": {\"building\": \"532\", \"coord\": [-73.993494, 40.756672], \"street\": \"9 Avenue\", \"zipcode\": \"10018\"}, \"borough\": \"Manhattan\", \"cuisine\": \"American\", \"grades\": [{\"date\": \"2014/10/31\", \"grade\": \"Z\", \"score\": 47}, {\"date\": \"2013/11/04\", \"grade\": \"A\", \"score\": 13}, {\"date\": \"2013/06/18\", \"grade\": \"A\", \"score\": 11}, {\"date\": \"2012/06/29\", \"grade\": \"A\", \"score\": 12}, {\"date\": \"2011/12/30\", \"grade\": \"B\", \"score\": 19}], \"name\": \"Holland Bar\", \"restaurant_id\": \"40388225\"}\n"
     ]
    }
   ],
   "source": [
    "# Filter restaurants with at least 5 reviews\n",
    "def has_at_least_5_reviews(restaurant):\n",
    "    if 'grades' in restaurant:\n",
    "        return len(restaurant['grades']) >= 5\n",
    "    return False\n",
    "\n",
    "# Use the filter function to get restaurants with at least 5 reviews\n",
    "restaurants_with_5_or_more_reviews = list(filter(has_at_least_5_reviews, updated_data))\n",
    "\n",
    "# Print the filtered restaurants\n",
    "for restaurant in restaurants_with_5_or_more_reviews:\n",
    "    print(json.dumps(restaurant))\n"
   ]
  },
  {
   "cell_type": "code",
   "execution_count": 148,
   "metadata": {},
   "outputs": [
    {
     "name": "stdout",
     "output_type": "stream",
     "text": [
      "reviews_per_year: defaultdict(<class 'int'>, {2014: 65, 2013: 73, 2012: 65, 2011: 38, 2015: 3})\n",
      "2014 65\n",
      "2013 73\n",
      "2012 65\n",
      "2011 38\n",
      "2015 3\n",
      "MOST_RECENT_YEAR: 2015\n",
      "filtered_restaurants: []\n",
      "Total restaurants in filtered_data: 0\n"
     ]
    }
   ],
   "source": [
    "from collections import defaultdict\n",
    "import json\n",
    "\n",
    "# Load your JSON data (updated_data) here\n",
    "\n",
    "# Step 1: Find the MOST_RECENT_YEAR\n",
    "most_recent_year = max(\n",
    "    int(grade['date'].split(' ')[-1])  # Extract the year from the date string\n",
    "    if grade['date'].count('/') == 0\n",
    "    else int(grade['date'].split('/')[0])  # Handle 'yyyy/mm/dd' format\n",
    "    for restaurant in updated_data\n",
    "    for grade in restaurant.get('grades', [])\n",
    ")\n",
    "\n",
    "\n",
    "# Step 2: Use map and lambda to find the year of each review\n",
    "def find_review_years(restaurant):\n",
    "    if 'grades' in restaurant:\n",
    "        return list(map(\n",
    "            lambda grade: int(grade['date'].split(' ')[-1])  # Extract the year from the date string\n",
    "            if grade['date'].count('/') == 0\n",
    "            else int(grade['date'].split('/')[0]),  # Handle 'yyyy/mm/dd' format\n",
    "            restaurant['grades']\n",
    "        ))\n",
    "    return []\n",
    "\n",
    "years_per_restaurant = list(map(find_review_years, updated_data))\n",
    "\n",
    "# Step 3: Group the reviews by year and count the reviews per year for each restaurant\n",
    "reviews_per_year = defaultdict(int)\n",
    "for years in years_per_restaurant:\n",
    "    for year in years:\n",
    "        reviews_per_year[year] += 1\n",
    "\n",
    "print(\"reviews_per_year:\", reviews_per_year)\n",
    "\n",
    "# print number of reviews from each year for each restaurant\n",
    "for year, review_count in reviews_per_year.items():\n",
    "    print(year, review_count)\n",
    "\n",
    "\n",
    "\n",
    "# Step 4: Filter restaurants with more than five reviews in the most recent year using lambda and filter functions\n",
    "filtered_restaurants = list(filter(\n",
    "    lambda restaurant: reviews_per_year[most_recent_year] >= 5,\n",
    "    updated_data\n",
    "))\n",
    "\n",
    "\n",
    "print(\"MOST_RECENT_YEAR:\", most_recent_year)\n",
    "print(\"filtered_restaurants:\", filtered_restaurants)\n",
    "print(\"Total restaurants in filtered_data:\", len(filtered_restaurants))\n",
    "\n",
    "# Print the filtered restaurants\n",
    "for restaurant in filtered_restaurants:\n",
    "    print(json.dumps(restaurant))\n"
   ]
  },
  {
   "cell_type": "code",
   "execution_count": 141,
   "metadata": {},
   "outputs": [
    {
     "name": "stdout",
     "output_type": "stream",
     "text": [
      "6\n"
     ]
    }
   ],
   "source": [
    "from functools import reduce\n",
    "\n",
    "# Assuming you already have 'reviews_per_year' as a dictionary of year -> review count\n",
    "\n",
    "# Step 5: Use the reduce function to compute the average number of reviews per restaurant\n",
    "review_counts = reviews_per_year.values()\n",
    "total_reviews = reduce(lambda x, y: x + y, review_counts, 0)  # Calculate the total number of reviews\n",
    "total_restaurants = len(updated_data)  # Calculate the total number of restaurants\n",
    "average_reviews_per_restaurant = total_reviews / total_restaurants  # Calculate the average\n",
    "\n",
    "print(\"Average number of reviews per restaurant:\", average_reviews_per_restaurant)\n"
   ]
  },
  {
   "cell_type": "code",
   "execution_count": 157,
   "metadata": {},
   "outputs": [
    {
     "name": "stdout",
     "output_type": "stream",
     "text": [
      "Total restaurants with more reviews than the average: 0\n"
     ]
    }
   ],
   "source": [
    "from functools import reduce\n",
    "\n",
    "# Calculate the average number of reviews per restaurant\n",
    "average_reviews_per_restaurant = sum(reviews_per_year.values()) / len(reviews_per_year)\n",
    "\n",
    "# Use the filter function to identify restaurants with more reviews than the average\n",
    "filtered_restaurants_more_reviews = list(filter(\n",
    "    lambda restaurant: (\n",
    "        'grades' in restaurant\n",
    "        and reviews_per_year.get(most_recent_year, 0) > average_reviews_per_restaurant\n",
    "    ),\n",
    "    updated_data\n",
    "))\n",
    "\n",
    "# Print the filtered restaurants\n",
    "for restaurant in filtered_restaurants_more_reviews:\n",
    "    print(json.dumps(restaurant, indent=2))\n",
    "\n",
    "print(\"Total restaurants with more reviews than the average:\", len(filtered_restaurants_more_reviews))\n"
   ]
  }
 ],
 "metadata": {
  "kernelspec": {
   "display_name": ".venv",
   "language": "python",
   "name": "python3"
  },
  "language_info": {
   "codemirror_mode": {
    "name": "ipython",
    "version": 3
   },
   "file_extension": ".py",
   "mimetype": "text/x-python",
   "name": "python",
   "nbconvert_exporter": "python",
   "pygments_lexer": "ipython3",
   "version": "3.12.0"
  }
 },
 "nbformat": 4,
 "nbformat_minor": 2
}
